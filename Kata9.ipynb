{
 "cells": [
  {
   "cell_type": "code",
   "execution_count": 9,
   "metadata": {},
   "outputs": [
    {
     "name": "stdout",
     "output_type": "stream",
     "text": [
      "Fuel:\n",
      "    Promedio: 29.666666666666668%\n",
      "    Tanque 1: 15%\n",
      "    Tanque 2: 33%\n",
      "    Tanque 3: 41%\n",
      "    \n",
      "Fuel:\n",
      "    Promedio: 63.333333333333336%\n",
      "    Tanque 1: 38\n",
      "    Tanque 2: 63\n",
      "    Tanque 3: 89\n",
      "    \n"
     ]
    }
   ],
   "source": [
    "def tank_report(tanque1, tanque2, tanque3):\n",
    "    promedio = (tanque1 + tanque2 + tanque3) / 3\n",
    "    return f\"\"\"Fuel:\n",
    "    Promedio: {promedio}%\n",
    "    Tanque 1: {tanque1}%\n",
    "    Tanque 2: {tanque2}%\n",
    "    Tanque 3: {tanque3}%\n",
    "    \"\"\"\n",
    "print(tank_report(15, 33, 41))\n",
    "\n",
    "def promedio(values):\n",
    "    total = sum(values)\n",
    "    items = len(values)\n",
    "    return total / items\n",
    "promedio([25, 48, 67])\n",
    "\n",
    "def tank_report(tanque1, tanque2, tanque3):\n",
    "    return f\"\"\"Fuel:\n",
    "    Promedio: {promedio([tanque1, tanque2, tanque3])}%\n",
    "    Tanque 1: {tanque1}\n",
    "    Tanque 2: {tanque2}\n",
    "    Tanque 3: {tanque3}\n",
    "    \"\"\"\n",
    "print(tank_report(38, 63, 89))\n",
    "    "
   ]
  },
  {
   "cell_type": "code",
   "execution_count": 11,
   "metadata": {},
   "outputs": [
    {
     "name": "stdout",
     "output_type": "stream",
     "text": [
      "\n",
      "    Destination Saturn\n",
      "    Travel 107 minutes\n",
      "    Fuel 66630638 gal\n",
      "    \n"
     ]
    }
   ],
   "source": [
    "def mission(pre_launch, flight, destination, ext_tank, int_tank):\n",
    "    return f\"\"\"\n",
    "    Destination {destination}\n",
    "    Travel {pre_launch + flight} minutes\n",
    "    Fuel {ext_tank + int_tank} gal\n",
    "    \"\"\"\n",
    "print(mission(75, 32, \"Saturn\", 61145874, 5484764))"
   ]
  },
  {
   "cell_type": "code",
   "execution_count": 13,
   "metadata": {},
   "outputs": [
    {
     "name": "stdout",
     "output_type": "stream",
     "text": [
      "\n",
      "    Mission Saturn\n",
      "    Travel 169 minutes\n",
      "    Fuel 10561927\n",
      "    \n"
     ]
    }
   ],
   "source": [
    "def mission (destination, *minutes, **available_fuel):\n",
    "    return f\"\"\"\n",
    "    Mission {destination}\n",
    "    Travel {sum(minutes)} minutes\n",
    "    Fuel {sum(available_fuel.values())}\n",
    "    \"\"\"\n",
    "print(mission(\"Saturn\", 67, 43, 59, int=8405781, ext=2156146))"
   ]
  },
  {
   "cell_type": "code",
   "execution_count": 20,
   "metadata": {},
   "outputs": [
    {
     "name": "stdout",
     "output_type": "stream",
     "text": [
      "\n",
      "    Mission Saturn\n",
      "    Travel: 123 minutes\n",
      "    Fuel: 9087657\n",
      "    int tank --> 8621676 gal left ext tank --> 465981 gal left \n"
     ]
    }
   ],
   "source": [
    "def mission(destination, *minutes, **available_fuel):\n",
    "    report = f\"\"\"\n",
    "    Mission {destination}\n",
    "    Travel: {sum(minutes)} minutes\n",
    "    Fuel: {sum(available_fuel.values())}\n",
    "    \"\"\"\n",
    "    for tank, gallons in available_fuel.items():\n",
    "        report += f\"{tank} tank --> {gallons} gal left \"\n",
    "    return report\n",
    "print(mission(\"Saturn\", 24, 38, 61, int=8621676, ext=465981))"
   ]
  }
 ],
 "metadata": {
  "interpreter": {
   "hash": "33541a670e8887513ebdf0f19cec6625b51694c5ef6b1c7e83282c54d5cd54e5"
  },
  "kernelspec": {
   "display_name": "Python 3.10.2 64-bit",
   "language": "python",
   "name": "python3"
  },
  "language_info": {
   "codemirror_mode": {
    "name": "ipython",
    "version": 3
   },
   "file_extension": ".py",
   "mimetype": "text/x-python",
   "name": "python",
   "nbconvert_exporter": "python",
   "pygments_lexer": "ipython3",
   "version": "3.10.2"
  },
  "orig_nbformat": 4
 },
 "nbformat": 4,
 "nbformat_minor": 2
}
