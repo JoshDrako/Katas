{
 "cells": [
  {
   "cell_type": "code",
   "execution_count": 1,
   "metadata": {},
   "outputs": [
    {
     "name": "stdout",
     "output_type": "stream",
     "text": [
      "There are several interesting facts about the Moon and how it affects life here on Earth.\", \"On average, the Moon moves 4cm away from the Earth every year\n",
      "There are several interesting facts about the Moon and how it affects life here on Earth.\", \"On average, the Moon moves 4cm away from the Earth every year\n",
      "The highest daylight temperature of the Moon is 127 C.\n",
      "The highest daylight temperature of the Moon is 127 Celsius.\n"
     ]
    }
   ],
   "source": [
    "text= \"\"\"Interesting facts about the Moon. The Moon is Earth's only satellite. There are several interesting facts about the Moon and how it affects life here on Earth.\", \"On average, the Moon moves 4cm away from the Earth every year. This yearly drift is not significant enough to cause immediate effects on Earth. The highest daylight temperature of the Moon is 127 C.\"\"\"\n",
    "\n",
    "div_text = text.split('. ')\n",
    "div_text\n",
    "\n",
    "key_words = [\"average\", \"temperature\", \"distance\"]\n",
    "\n",
    "for ciclo in div_text:\n",
    "    for key_word in key_words:\n",
    "        if key_word in ciclo:\n",
    "            print(ciclo)\n",
    "    for key_word in key_words:\n",
    "        if key_word in ciclo:\n",
    "            print(ciclo.replace('C','Celsius'))\n",
    "            break"
   ]
  },
  {
   "cell_type": "code",
   "execution_count": 22,
   "metadata": {},
   "outputs": [
    {
     "name": "stdout",
     "output_type": "stream",
     "text": [
      "----------\n",
      "planeta: Earth\n",
      "gravedad en Moon: 1.6199999999999999 m/s2\n",
      "\n",
      "----------\n",
      "planeta: Earth\n",
      "gravedad en Moon: 1.6199999999999999 m/s2\n",
      "\n",
      "\n",
      "Información sobre la gravedad de: Ganímedes\n",
      "Planeta Marte \n",
      "Gravedad en Ganímedes: 0.00143 m/s2\n"
     ]
    }
   ],
   "source": [
    "name = \"Moon\"\n",
    "gravity = 0.00162\n",
    "planet = \"Earth\"\n",
    "\n",
    "title = f'Información importante acerca de la gravedad en {name}'\n",
    "\n",
    "facts = f\"\"\"{\"-\" * 10}\n",
    "planeta: {planet}\n",
    "gravedad en {name}: {gravity * 1000} m/s2\n",
    "\"\"\"\n",
    "template = f\"\"\"{title.title()}\n",
    "{facts}\n",
    "\"\"\"\n",
    "print(facts)\n",
    "\n",
    "planeta = 'Marte '\n",
    "gravedad  = 0.00143\n",
    "nombre = 'Ganímedes'\n",
    "\n",
    "print(facts)\n",
    "\n",
    "new_template = \"\"\"\n",
    "Información sobre la gravedad de: {nombre}\n",
    "Planeta {planeta}\n",
    "Gravedad en {nombre}: {gravedad} m/s2\"\"\"\n",
    "\n",
    "print(new_template.format(nombre=nombre, planeta=planeta, gravedad=gravedad))"
   ]
  }
 ],
 "metadata": {
  "interpreter": {
   "hash": "b0041005248dd07752127b040db3686ef8e4c3d8e2811662fdc0423d9a8f38c9"
  },
  "kernelspec": {
   "display_name": "Python 3.10.2 ('env': venv)",
   "language": "python",
   "name": "python3"
  },
  "language_info": {
   "codemirror_mode": {
    "name": "ipython",
    "version": 3
   },
   "file_extension": ".py",
   "mimetype": "text/x-python",
   "name": "python",
   "nbconvert_exporter": "python",
   "pygments_lexer": "ipython3",
   "version": "3.10.2"
  },
  "orig_nbformat": 4
 },
 "nbformat": 4,
 "nbformat_minor": 2
}
